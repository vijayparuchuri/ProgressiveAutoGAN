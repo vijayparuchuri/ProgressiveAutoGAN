{
 "cells": [
  {
   "cell_type": "code",
   "execution_count": null,
   "id": "848c868d-67a3-4819-8593-e7c152d939ec",
   "metadata": {},
   "outputs": [],
   "source": [
    "import pandas as pd\n",
    "import matplotlib.pyplot as plt\n",
    "import numpy as np\n",
    "import os\n",
    "from skimage.transform import resize\n",
    "import cv2\n",
    "import tensorflow as tf\n",
    "from sklearn.metrics import accuracy_score, confusion_matrix, classification_report\n",
    "from tensorflow.keras.preprocessing.image import ImageDataGenerator\n",
    "from sklearn.model_selection import train_test_split\n",
    "from tensorflow.keras.models import Sequential\n",
    "from tensorflow.keras.layers import Conv2D, MaxPool2D, Dropout, Dense, Flatten, AveragePooling2D, LeakyReLU, BatchNormalization, Add, Input, UpSampling2D, Reshape, Layer\n",
    "from tensorflow.keras.constraints import max_norm\n",
    "from tensorflow.keras.initializers import RandomNormal\n",
    "from tensorflow.keras.models import Model\n",
    "from numpy import asarray\n",
    "from numpy import zeros\n",
    "from numpy import ones\n",
    "from math import sqrt\n",
    "from numpy import load\n",
    "from numpy.random import randn, randint \n",
    "# import tqdm\n",
    "from tqdm.notebook import tqdm\n",
    "from tensorflow.keras import backend as K\n",
    "from tensorflow.keras.preprocessing import image\n",
    "from PIL import Image\n",
    "import shutil\n",
    "from tensorflow.keras.optimizers import Adam\n",
    "from tensorflow.keras import backend\n",
    "\n",
    "PATH = \"Novel-Car-Design-Generation-using-Progressive-Growing-GANs/Clean_Images\""
   ]
  },
  {
   "cell_type": "code",
   "execution_count": null,
   "id": "ee3461c0-4b8a-4b8b-9d92-1506182ec541",
   "metadata": {},
   "outputs": [],
   "source": [
    "# Read the image files and return normalized images of size (128, 128, 3)\n",
    "def read_images(filename):\n",
    "    image_list = []\n",
    "    for file in os.listdir(filename):\n",
    "        image = Image.open(os.path.join(filename, file))\n",
    "        image = image.convert('RGB')\n",
    "        pixels = image.resize((128, 128))\n",
    "        pixels = np.asarray(pixels)\n",
    "        pixels = pixels/255\n",
    "        image_list.append(pixels)\n",
    "    return np.asarray(image_list)\n",
    "\n",
    "dataset = read_images(PATH)\n",
    "dataset = dataset.reshape(-1, 128, 128, 3)"
   ]
  },
  {
   "cell_type": "code",
   "execution_count": null,
   "id": "8923687f-7cc5-451d-b735-f28faea8f327",
   "metadata": {},
   "outputs": [],
   "source": [
    "# Display 100 images from the dataset\n",
    "img_gen = ImageDataGenerator(zoom_range = 0.2, rescale=1/255, dtype='float32')\n",
    "images = img_gen.flow_from_directory(PATH, target_size = (128, 128), classes=None, class_mode=None, batch_size=32)\n",
    "\n",
    "fig, axes = plt.subplots(10, 10, figsize=(20, 20))\n",
    "for i in range(len(axes)):\n",
    "    for j in range(len(axes)):\n",
    "        axes[i][j].imshow(images[j][i])\n",
    "        axes[i][j].get_xaxis().set_visible(False)\n",
    "        axes[i][j].get_yaxis().set_visible(False)"
   ]
  }
 ],
 "metadata": {
  "kernelspec": {
   "display_name": "Python 3 (ipykernel)",
   "language": "python",
   "name": "python3"
  },
  "language_info": {
   "codemirror_mode": {
    "name": "ipython",
    "version": 3
   },
   "file_extension": ".py",
   "mimetype": "text/x-python",
   "name": "python",
   "nbconvert_exporter": "python",
   "pygments_lexer": "ipython3",
   "version": "3.13.2"
  }
 },
 "nbformat": 4,
 "nbformat_minor": 5
}
